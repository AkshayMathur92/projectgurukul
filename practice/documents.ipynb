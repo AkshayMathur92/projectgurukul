{
 "cells": [
  {
   "cell_type": "code",
   "execution_count": 1,
   "metadata": {},
   "outputs": [],
   "source": [
    "from llama_index.readers import SimpleDirectoryReader, WikipediaReader, SimpleWebPageReader\n",
    "from llama_index import download_loader\n",
    "from llama_index.schema import MetadataMode\n",
    "import dotenv\n",
    "dotenv.load_dotenv('../.env')\n",
    "from projectgurukul.readers import CSVReader,RamayanaCSVReader\n",
    "import pandas as pd\n",
    "import re"
   ]
  },
  {
   "cell_type": "markdown",
   "metadata": {},
   "source": [
    "# Gita"
   ]
  },
  {
   "cell_type": "code",
   "execution_count": 3,
   "metadata": {},
   "outputs": [],
   "source": [
    "def preprocess(row):\n",
    "    row['chapter'], row['verse'] = row.verse_number.split(', ')\n",
    "    return row\n",
    "\n",
    "\n",
    "reader = CSVReader(text_columns=['verse','verse_in_sanskrit','translation_in_english','meaning_in_english'], metadata_columns=['chapter'], preprocess = preprocess)\n",
    "\n",
    "documents = reader.load_data('../data/gita/data/bhagavad_gita.csv', extra_info={'souce': 'Bhagavad Gita'})"
   ]
  },
  {
   "cell_type": "code",
   "execution_count": 4,
   "metadata": {},
   "outputs": [
    {
     "data": {
      "text/plain": [
       "701"
      ]
     },
     "execution_count": 4,
     "metadata": {},
     "output_type": "execute_result"
    }
   ],
   "source": [
    "len(documents)"
   ]
  },
  {
   "cell_type": "code",
   "execution_count": 5,
   "metadata": {},
   "outputs": [
    {
     "name": "stdout",
     "output_type": "stream",
     "text": [
      "> chapter: Chapter 1\n",
      "> souce: Bhagavad Gita\n",
      "\n",
      "Verse 1\n",
      "\n",
      "धृतराष्ट्र उवाच |धर्मक्षेत्रे कुरुक्षेत्रे समवेता युयुत्सवः |मामकाः पाण्डवाश्चैव किमकुर्वत सञ्जय ||1||\n",
      "\n",
      "Dhritarashtra said: O Sanjay, after gathering on the holy field of Kurukshetra, and desiring to fight, what did my sons and the sons of Pandu do?\n",
      "\n",
      "The two armies had gathered on the battlefield of Kurukshetra, well prepared to fight a war that was inevitable. Still, in this verse, King Dhritarashtra asked Sanjay, what his sons and his brother Pandu’s sons were doing on the battlefield? It was apparent that they would fight, then why did he ask such a question?The blind King Dhritarashtra’s fondness for his own sons had clouded his spiritual wisdom and deviated him from the path of virtue. He had usurped the kingdom of Hastinapur from the rightful heirs; the Pandavas, sons of his brother Pandu. Feeling guilty of the injustice he had done towards his nephews, his conscience worried him about the outcome of this battle.The words dharma kṣhetre, the land of dharma (virtuous conduct) used by Dhritarashtra depict the dilemma he was experiencing. Kurukshetra is described as kurukṣhetraṁ deva yajanam in the Shatapath Brahman, the Vedic textbook detailing rituals. It means “Kurukshetra is the sacrificial arena of the celestial gods.”Hence, it was regarded as the sacred land that nourished dharma.Dhritarashtra feared that the holy land might influence the minds of his sons. If it aroused the faculty of discrimination, they might turn away from killing their cousins and negotiate a truce. A peaceful settlement meant that the Pandavas would continue being a hindrance for them.He felt great displeasure at these possibilities, instead preferred that this war transpires.He was uncertain of the consequences of the war, yet desired to determine the fate of his sons. Therefore, he asked Sanjay about the activities of the two armies on the battleground.\n"
     ]
    }
   ],
   "source": [
    "documents[0].metadata_template = \"> {key}: {value}\"\n",
    "print(documents[0].get_content(metadata_mode = MetadataMode.ALL))"
   ]
  },
  {
   "cell_type": "code",
   "execution_count": 4,
   "metadata": {},
   "outputs": [
    {
     "data": {
      "text/plain": [
       "'chapter: Chapter 1\\nsouce: Bhagavad Gita'"
      ]
     },
     "execution_count": 4,
     "metadata": {},
     "output_type": "execute_result"
    }
   ],
   "source": [
    "documents[1].get_metadata_str()"
   ]
  },
  {
   "cell_type": "code",
   "execution_count": 21,
   "metadata": {},
   "outputs": [],
   "source": [
    "wikireader = WikipediaReader()\n",
    "wikidocs = wikireader.load_data(['ayodhya ram temple'])\n"
   ]
  },
  {
   "cell_type": "code",
   "execution_count": 23,
   "metadata": {},
   "outputs": [
    {
     "name": "stdout",
     "output_type": "stream",
     "text": [
      "The Ram Mandir is a Hindu temple that is under construction in Ayodhya, Uttar Pradesh, India. It is located at the site of Ram Janmabhoomi, the hypothesized birthplace of Rama, a principal deity of Hinduism. The site is the former location of the Babri Masjid which was built after the demolition an existing non-Islamic structure. The worship of Hindu god Ram and Sita at the disputed site started when their idols were installed in 1949. In 2019, the Supreme Court of India delivered the verdict to give the disputed land to Hindus for a temple of Ram, while Muslims would be given land elsewhere to construct a mosque. The court referenced a report from the Archaeological Survey of India (ASI) as evidence suggesting the presence of a structure beneath the demolished Babri Masjid, that was found to be non-Islamic.The bhumi pujan (transl. ground breaking ceremony) for the commencement of the construction of Ram Mandir was performed on 5 August 2020, by Prime Minister Narendra Modi. The temple, currently under construction, is being supervised by the Shri Ram Janmabhoomi Teerth Kshetra Trust. The inauguration of the temple is scheduled for 22 January 2024.The temple has attracted a number of controversies due to alleged misuse of donation, sidelining of its major activists and politicisation of the temple by the BJP.\n",
      "\n",
      "\n",
      "== History ==\n",
      "\n",
      "\n",
      "=== Ancient and Medieval ===\n",
      "Rama, an incarnation of Vishnu, is a Hindu deity. According to the ancient Indian epic, Ramayana, Rama was born in Ayodhya\n"
     ]
    }
   ],
   "source": [
    "print( wikidocs[0].get_content()[:1500])"
   ]
  },
  {
   "cell_type": "markdown",
   "metadata": {},
   "source": [
    "# Ramayana"
   ]
  },
  {
   "cell_type": "code",
   "execution_count": 2,
   "metadata": {},
   "outputs": [
    {
     "data": {
      "text/html": [
       "<div>\n",
       "<style scoped>\n",
       "    .dataframe tbody tr th:only-of-type {\n",
       "        vertical-align: middle;\n",
       "    }\n",
       "\n",
       "    .dataframe tbody tr th {\n",
       "        vertical-align: top;\n",
       "    }\n",
       "\n",
       "    .dataframe thead th {\n",
       "        text-align: right;\n",
       "    }\n",
       "</style>\n",
       "<table border=\"1\" class=\"dataframe\">\n",
       "  <thead>\n",
       "    <tr style=\"text-align: right;\">\n",
       "      <th></th>\n",
       "      <th>content</th>\n",
       "      <th>explanation</th>\n",
       "    </tr>\n",
       "  </thead>\n",
       "  <tbody>\n",
       "    <tr>\n",
       "      <th>0</th>\n",
       "      <td>गच्छता मातुलकुलं भरतेन तदाऽनघ।शत्रुघ्नो नित्यश...</td>\n",
       "      <td>Bharata set out for his maternal uncle's hous...</td>\n",
       "    </tr>\n",
       "    <tr>\n",
       "      <th>1</th>\n",
       "      <td>तत्र न्यवसद्भ्रात्रा सह सत्कारसत्कृतः।मातुलेना...</td>\n",
       "      <td>Treated with warm hospitality and fatherly aff...</td>\n",
       "    </tr>\n",
       "    <tr>\n",
       "      <th>2</th>\n",
       "      <td>तत्रापि निवसन्तौ तौ तर्प्यमाणौ च कामतः।भ्रातरौ...</td>\n",
       "      <td>Though both the heroic brothers stayed there s...</td>\n",
       "    </tr>\n",
       "    <tr>\n",
       "      <th>3</th>\n",
       "      <td>राजाऽपि तौ महातेजा स्सस्मार प्रोषितौ सुतौ।उभौ ...</td>\n",
       "      <td>The glorious king Dasaratha also remembered hi...</td>\n",
       "    </tr>\n",
       "    <tr>\n",
       "      <th>4</th>\n",
       "      <td>सर्व एव तु तस्येष्टा श्चत्वारः पुरुषर्षभाः।स्व...</td>\n",
       "      <td>Dasaratha, a bull among men, loved all his fou...</td>\n",
       "    </tr>\n",
       "  </tbody>\n",
       "</table>\n",
       "</div>"
      ],
      "text/plain": [
       "                                             content  \\\n",
       "0  गच्छता मातुलकुलं भरतेन तदाऽनघ।शत्रुघ्नो नित्यश...   \n",
       "1  तत्र न्यवसद्भ्रात्रा सह सत्कारसत्कृतः।मातुलेना...   \n",
       "2  तत्रापि निवसन्तौ तौ तर्प्यमाणौ च कामतः।भ्रातरौ...   \n",
       "3  राजाऽपि तौ महातेजा स्सस्मार प्रोषितौ सुतौ।उभौ ...   \n",
       "4  सर्व एव तु तस्येष्टा श्चत्वारः पुरुषर्षभाः।स्व...   \n",
       "\n",
       "                                         explanation  \n",
       "0   Bharata set out for his maternal uncle's hous...  \n",
       "1  Treated with warm hospitality and fatherly aff...  \n",
       "2  Though both the heroic brothers stayed there s...  \n",
       "3  The glorious king Dasaratha also remembered hi...  \n",
       "4  Dasaratha, a bull among men, loved all his fou...  "
      ]
     },
     "execution_count": 2,
     "metadata": {},
     "output_type": "execute_result"
    }
   ],
   "source": [
    "df = pd.read_csv(\"../data/ramayana/data/ayodhyakanda.csv\").dropna(how = 'all')\n",
    "df.head()"
   ]
  },
  {
   "cell_type": "code",
   "execution_count": 8,
   "metadata": {},
   "outputs": [],
   "source": [
    "df = pd.read_csv(\"../data/ramayana/data/yuddhakanda.csv\").dropna(how=\"all\").fillna(\"\")\n",
    "ids = df.content.map(lambda shloka: re.findall(r'.*(\\d+\\.\\d+\\.\\d+).*',shloka))"
   ]
  },
  {
   "cell_type": "code",
   "execution_count": 10,
   "metadata": {},
   "outputs": [
    {
     "data": {
      "text/plain": [
       "735    []\n",
       "Name: content, dtype: object"
      ]
     },
     "execution_count": 10,
     "metadata": {},
     "output_type": "execute_result"
    }
   ],
   "source": [
    "ids[ids.map(len)<1]"
   ]
  },
  {
   "cell_type": "code",
   "execution_count": 11,
   "metadata": {},
   "outputs": [
    {
     "data": {
      "text/plain": [
       "content        तदद्बुतंराघवकर्मदुष्करंसमीक्ष्यदेवास्सहसिद्धचा...\n",
       "explanation    At once the gods, siddhas, charanas and sages ...\n",
       "Name: 735, dtype: object"
      ]
     },
     "execution_count": 11,
     "metadata": {},
     "output_type": "execute_result"
    }
   ],
   "source": [
    "df.iloc[735]"
   ]
  },
  {
   "cell_type": "code",
   "execution_count": 2,
   "metadata": {},
   "outputs": [],
   "source": [
    "docs = RamayanaCSVReader().load_data(\"../data/ramayana/data/yuddhakanda.csv\")"
   ]
  },
  {
   "cell_type": "code",
   "execution_count": 3,
   "metadata": {},
   "outputs": [
    {
     "name": "stdout",
     "output_type": "stream",
     "text": [
      "{'sarga': '1'}\n"
     ]
    }
   ],
   "source": [
    "print(docs[0].metadata)"
   ]
  },
  {
   "cell_type": "code",
   "execution_count": 4,
   "metadata": {},
   "outputs": [
    {
     "name": "stdout",
     "output_type": "stream",
     "text": [
      "[Hearing Hanuman's report, Rama praises him and embraces.]श्रुत्वा हनुमतो वाक्यं यथावदभिभाषितम् ।रामः प्रीतिसमायुक्तो वाक्यमुत्तरमब्रवीत् ।।6.1.1।। \n",
      " Having heard Hanuman's words, full of love, Rama replied. \n",
      "\n",
      "कृतं हनुमता कार्यं सुमहद्भुवि दुर्लभम् ।मनसापि यदन्येन न शक्यं धरणीतले ।।6.1.2।।\n",
      " \"Hanuman You have performed a mighty task indeed, which is difficult even to think of in this world and not possible for any one else on this earth.\"  \n",
      "\n",
      "न हि तं परिपश्यामि यस्तरेत महार्णवम् ।अन्यत्र गरुडाद्वायोरन्यत्र च हनूमतः ।।6.1.3।। \n",
      " \"None else than Garuda or Vayu have I seen to have crossed this great ocean crossed by you, Hanuman.\"\n",
      "\n",
      "देवदानवयक्षाणां गन्धर्वोरगरक्षसाम् । अप्रधृष्यां पुरीं लङ्कां रावणेन सुरक्षिताम् । प्रवष्ट स्सत्त्वमाश्रित्यश्वसन्को नाम निष्क्रमेत् ।।6.1.4।। \n",
      " \"Indeed, who has the strength to return alive after entering that city highly protected by Ravana. It is unimaginable even for devas, danavas, yakshas, gandharvas, uragas and rakshasas to cross.\"\n",
      "\n",
      "को विशेत्सुदुराधर्षां राक्षसैश्च सुरक्षिताम् ।यो वीर्यबलसम्पन्नो न समस्याद्धनूमतः ।।6.1.5।।\n",
      " \"Except for Hanuman, who is abounding in valour and strength, it is not possible for others to enter the inaccessible Lanka highly protected by rakshasas.\"\n",
      "\n",
      "भृत्यकार्यं हनुमता सुग्रीवस्य कृतंमहत् । स्वयं विधाय स्वबलं सदृशं विक्रमस्य च ।।6.1.6।।\n",
      " \"Hanuman, with his mighty form and valour not only carried out a great task assigned by Sugriva but also what had to be done as duty.\" \n",
      "\n",
      "यो हि भृत्यो नियुक्तस्सन्भर्त्रा कर्मणि दुष्करे ।कुर्यात्तदनुरागेण तमाहुः पुरुषोत्तमम् ।।6.1.7।।\n",
      " \"He, who carries out  a formidable task entrusted to him by the master, with love is  said to be the best among men.\"\n",
      "\n",
      "नियुक्तोय: परं कार्यं न कुर्यान्नृपतेः प्रियम् ।भृत्योऽभृत्यस्समर्थोऽपि तमाहुर्मध्यमं नरम् ।।6.1.8।। \n",
      " An efficient servant does not only do what is asked but also does the work dear to the king. One who does not do so is said to be mediocre.\n",
      "\n",
      "नियुक्तो नृपतेः  कार्यं न कुर्याद्यस्समाहितः । भृत्यो युक्तस्समर्थश्च तमाहुः पुरुषाधमम् ।।6.1.9।।\n",
      " \"If one who is capable and efficient has been entrusted with a task by a king and fails to do the work agreed to, is said to be a lowly person.\"\n",
      "\n",
      "तन्नियोगे नियुक्तेन कृतं कृत्यं हनूमता ।न चात्मा लघुतां नीतस्सुग्रीवश्चापि तोषितः ।।6.1.10।। \n",
      " \"Having done the task assigned to him, Hanuman carried out what had to be done and accomplished without difficulty. This made Sugriva also happy.\"  \n",
      "\n",
      "अहं च रघुवंशश्च लक्ष्मणश्च महाबलः ।वैदेह्या दर्शनेनाद्य धर्मतः परिरक्षिताः ।।6.1.11।।\n",
      " \"On Hanuman finding Vaidehi, I and, mighty Lakshmana and the whole of Raghu dynasty are now rightfully protected.\"\n",
      "\n",
      "इदं तु मम दीनस्य मनो भूयः प्रकर्षति ।यदिहास्य प्रियाख्यातुर्न कुर्मि सदृशं प्रियम् ।।6.1.12।। \n",
      " \"On the other hand, it is a pity that I am not able to please such a person who has spoken pleasing words. Further this causes grief to me.\"\n",
      "\n",
      "एष सर्वस्वभूते परिष्वङ्गो हनूमतः । मया कालमिमं प्राप्य दत्तस्तस्य महात्मनः ।।6.1.13।।\n",
      " \"To such a great one who attained success at this time, everything can be given. I give my embrace.\"  \n",
      "\n",
      "इत्युक्त्वा प्रीतिहृष्टाङ्गो रामस्तं परिषस्वजे ।हनूमन्तं कृतात्मानं कृतकार्यमुपागतम् ।।6.1.14।।\n",
      " Having said so, Rama experienced the joy of love all over his body and embraced Hanuman who returned successful.\n",
      "\n",
      "ध्यात्वा पुनरुवाचेदं वचनं रघुनन्दनः ।हरीणामीश्वरस्यापि सुग्रीवस्योपशृण्वतः ।।6.1.15।।\n",
      " Rama, the delight of Raghu dynasty thought over and said while Sugriva, the lord of monkeys was still listening.\n",
      "\n",
      "सर्वथा सुकृतं तावत्सीतायाः परिमार्गणम् ।सागरं तु समासाद्य पुनर्नष्टं मनो मम ।।6.1.16।।\n",
      " \"By all means good work was done in searching for Sita. On the contrary, having succeeded, my mind is once again agitated when I think of (crossing) the ocean.\"\n",
      "\n",
      "कथं नाम समुद्रस्य दुष्पारस्य महाम्भसः ।हरयो दक्षिणं पारं गमिष्यन्ति समागताः ।।6.1.17।। \n",
      " \"How will all the monkeys together be able to cross to the southern shore of the vast ocean? It is difficult to cross.\"\n",
      "\n",
      "यद्यप्येष तु वृत्तान्तो वैदेह्या गदितो मम ।समुद्रपारगमने हरीणां किमिहोत्तरम् ।।6.1.18।।\n",
      " \"This has been told to me by Vaidehi. How will the monkeys cross the ocean(enquired Vaidehi).\"\n",
      "\n",
      "इत्युक्तवा शोकसम्भ्रान्तो राम श्शत्रुनिबर्हणः ।हनूमन्तं महाबाहुस्ततो ध्यानमुपागमत् ।।6.1.19।।\n",
      " Agitated with sorrow, mighty armed Rama, the destroyer of enemies approached Hanuman and reflected (about the crossing of the ocean).                            इत्यार्षे श्रीमद्रामायणे वाल्मीकीये आदिकाव्ये युद्धकाण्डे प्रथमस्सर्गः This is the end of the first Sarga of Yuddha Kanda of the first epic the holy Ramayana composed by sage Valmiki.\n"
     ]
    }
   ],
   "source": [
    "print(docs[0].get_content())"
   ]
  },
  {
   "cell_type": "code",
   "execution_count": null,
   "metadata": {},
   "outputs": [],
   "source": []
  }
 ],
 "metadata": {
  "kernelspec": {
   "display_name": "gurukul",
   "language": "python",
   "name": "python3"
  },
  "language_info": {
   "codemirror_mode": {
    "name": "ipython",
    "version": 3
   },
   "file_extension": ".py",
   "mimetype": "text/x-python",
   "name": "python",
   "nbconvert_exporter": "python",
   "pygments_lexer": "ipython3",
   "version": "3.11.7"
  }
 },
 "nbformat": 4,
 "nbformat_minor": 2
}
