{
 "cells": [
  {
   "cell_type": "code",
   "execution_count": null,
   "metadata": {},
   "outputs": [],
   "source": [
    "# ! pip install bs4"
   ]
  },
  {
   "cell_type": "code",
   "execution_count": 5,
   "metadata": {},
   "outputs": [
    {
     "data": {
      "text/plain": [
       "'https://www.valmiki.iitk.ac.in/sloka?field_kanda_tid=6&language=dv&field_sarga_value=1'"
      ]
     },
     "execution_count": 5,
     "metadata": {},
     "output_type": "execute_result"
    }
   ],
   "source": [
    "import numpy as np\n",
    "import bs4, requests\n",
    "import pandas as pd\n",
    "\n",
    "URL_TEMPLATE = \"https://www.valmiki.iitk.ac.in/sloka?field_kanda_tid={kanda}&language=dv&field_sarga_value={sarga}\"\n",
    "KANDA = 6 #YUDDHAKANDA\n",
    "OUTPUT_FILE = \"../data/ramayana/data/yuddhakanda.csv\"\n",
    "SARGAS = np.arange(1,132)\n",
    "URLS= [URL_TEMPLATE.format(kanda = KANDA, sarga = sarga) for sarga in SARGAS]\n",
    "URLS[0]"
   ]
  },
  {
   "cell_type": "code",
   "execution_count": 8,
   "metadata": {},
   "outputs": [
    {
     "name": "stdout",
     "output_type": "stream",
     "text": [
      "https://www.valmiki.iitk.ac.in/sloka?field_kanda_tid=6&language=dv&field_sarga_value=1\n"
     ]
    },
    {
     "data": {
      "text/html": [
       "<div>\n",
       "<style scoped>\n",
       "    .dataframe tbody tr th:only-of-type {\n",
       "        vertical-align: middle;\n",
       "    }\n",
       "\n",
       "    .dataframe tbody tr th {\n",
       "        vertical-align: top;\n",
       "    }\n",
       "\n",
       "    .dataframe thead th {\n",
       "        text-align: right;\n",
       "    }\n",
       "</style>\n",
       "<table border=\"1\" class=\"dataframe\">\n",
       "  <thead>\n",
       "    <tr style=\"text-align: right;\">\n",
       "      <th></th>\n",
       "      <th>content</th>\n",
       "      <th>explanation</th>\n",
       "    </tr>\n",
       "  </thead>\n",
       "  <tbody>\n",
       "    <tr>\n",
       "      <th>0</th>\n",
       "      <td>[Hearing Hanuman's report, Rama praises him an...</td>\n",
       "      <td>Having heard Hanuman's words, full of love, Ra...</td>\n",
       "    </tr>\n",
       "    <tr>\n",
       "      <th>1</th>\n",
       "      <td>कृतं हनुमता कार्यं सुमहद्भुवि दुर्लभम् ।मनसापि...</td>\n",
       "      <td>\"Hanuman You have performed a mighty task inde...</td>\n",
       "    </tr>\n",
       "    <tr>\n",
       "      <th>2</th>\n",
       "      <td>न हि तं परिपश्यामि यस्तरेत महार्णवम् ।अन्यत्र ...</td>\n",
       "      <td>\"None else than Garuda or Vayu have I seen to ...</td>\n",
       "    </tr>\n",
       "    <tr>\n",
       "      <th>3</th>\n",
       "      <td>देवदानवयक्षाणां गन्धर्वोरगरक्षसाम् । अप्रधृष्य...</td>\n",
       "      <td>\"Indeed, who has the strength to return alive ...</td>\n",
       "    </tr>\n",
       "    <tr>\n",
       "      <th>4</th>\n",
       "      <td>को विशेत्सुदुराधर्षां राक्षसैश्च सुरक्षिताम् ।...</td>\n",
       "      <td>\"Except for Hanuman, who is abounding in valou...</td>\n",
       "    </tr>\n",
       "  </tbody>\n",
       "</table>\n",
       "</div>"
      ],
      "text/plain": [
       "                                             content  \\\n",
       "0  [Hearing Hanuman's report, Rama praises him an...   \n",
       "1  कृतं हनुमता कार्यं सुमहद्भुवि दुर्लभम् ।मनसापि...   \n",
       "2  न हि तं परिपश्यामि यस्तरेत महार्णवम् ।अन्यत्र ...   \n",
       "3  देवदानवयक्षाणां गन्धर्वोरगरक्षसाम् । अप्रधृष्य...   \n",
       "4  को विशेत्सुदुराधर्षां राक्षसैश्च सुरक्षिताम् ।...   \n",
       "\n",
       "                                         explanation  \n",
       "0  Having heard Hanuman's words, full of love, Ra...  \n",
       "1  \"Hanuman You have performed a mighty task inde...  \n",
       "2  \"None else than Garuda or Vayu have I seen to ...  \n",
       "3  \"Indeed, who has the strength to return alive ...  \n",
       "4  \"Except for Hanuman, who is abounding in valou...  "
      ]
     },
     "execution_count": 8,
     "metadata": {},
     "output_type": "execute_result"
    }
   ],
   "source": [
    "def parse_html_from_url(url):\n",
    "    print(url)\n",
    "    try:\n",
    "        # Send a GET request to the URL\n",
    "        response = requests.get(url)\n",
    "        response.raise_for_status()  # Check if the request was successful\n",
    "\n",
    "        # Parse the HTML content using BeautifulSoup\n",
    "        soup = bs4.BeautifulSoup(response.text, 'html.parser')\n",
    "\n",
    "        shlokas = [elem.find_all(class_=\"field-content\") for elem in soup.find_all(class_=\"views-row\")]\n",
    "        rows = [(shloka[0].text, shloka[2].text) for shloka in shlokas]\n",
    "        return pd.DataFrame(rows, columns=('content', 'explanation'))\n",
    "\n",
    "    except requests.exceptions.RequestException as e:\n",
    "        print(f\"Error fetching the URL: {e}\")\n",
    "\n",
    "# Example usage:\n",
    "url_to_parse = URLS[0]\n",
    "df = parse_html_from_url(url_to_parse)\n",
    "df.head()"
   ]
  },
  {
   "cell_type": "code",
   "execution_count": 13,
   "metadata": {},
   "outputs": [
    {
     "name": "stdout",
     "output_type": "stream",
     "text": [
      "Number of sargas = 131, number of shlokas = 5209\n"
     ]
    }
   ],
   "source": [
    "dfs = [parse_html_from_url(url) for url in URLS]\n",
    "final_df = pd.concat(dfs)\n",
    "print(f\"Number of sargas = {len(dfs)}, number of shlokas = {len(final_df)}\")"
   ]
  },
  {
   "cell_type": "code",
   "execution_count": 11,
   "metadata": {},
   "outputs": [],
   "source": [
    "final_df.to_csv(OUTPUT_FILE, index=False)"
   ]
  },
  {
   "cell_type": "code",
   "execution_count": null,
   "metadata": {},
   "outputs": [],
   "source": []
  }
 ],
 "metadata": {
  "kernelspec": {
   "display_name": "gurukul",
   "language": "python",
   "name": "python3"
  },
  "language_info": {
   "codemirror_mode": {
    "name": "ipython",
    "version": 3
   },
   "file_extension": ".py",
   "mimetype": "text/x-python",
   "name": "python",
   "nbconvert_exporter": "python",
   "pygments_lexer": "ipython3",
   "version": "3.11.7"
  }
 },
 "nbformat": 4,
 "nbformat_minor": 2
}
